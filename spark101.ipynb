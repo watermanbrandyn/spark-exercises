{
 "cells": [
  {
   "cell_type": "code",
   "execution_count": 1,
   "id": "76d94c3d",
   "metadata": {},
   "outputs": [],
   "source": [
    "import pandas as pd\n",
    "\n",
    "import pyspark\n",
    "from pyspark.sql.functions import *"
   ]
  },
  {
   "cell_type": "code",
   "execution_count": 2,
   "id": "95d6e84a",
   "metadata": {},
   "outputs": [
    {
     "name": "stderr",
     "output_type": "stream",
     "text": [
      "22/05/22 22:50:59 WARN Utils: Your hostname, Brandyns-MacBook-Air.local resolves to a loopback address: 127.0.0.1; using 192.168.3.168 instead (on interface en0)\n",
      "22/05/22 22:50:59 WARN Utils: Set SPARK_LOCAL_IP if you need to bind to another address\n",
      "WARNING: An illegal reflective access operation has occurred\n",
      "WARNING: Illegal reflective access by org.apache.spark.unsafe.Platform (file:/opt/homebrew/anaconda3/lib/python3.9/site-packages/pyspark/jars/spark-unsafe_2.12-3.2.1.jar) to constructor java.nio.DirectByteBuffer(long,int)\n",
      "WARNING: Please consider reporting this to the maintainers of org.apache.spark.unsafe.Platform\n",
      "WARNING: Use --illegal-access=warn to enable warnings of further illegal reflective access operations\n",
      "WARNING: All illegal access operations will be denied in a future release\n",
      "Using Spark's default log4j profile: org/apache/spark/log4j-defaults.properties\n",
      "Setting default log level to \"WARN\".\n",
      "To adjust logging level use sc.setLogLevel(newLevel). For SparkR, use setLogLevel(newLevel).\n",
      "22/05/22 22:51:00 WARN NativeCodeLoader: Unable to load native-hadoop library for your platform... using builtin-java classes where applicable\n"
     ]
    }
   ],
   "source": [
    "# create spark session\n",
    "spark = pyspark.sql.SparkSession.builder.getOrCreate()"
   ]
  },
  {
   "cell_type": "markdown",
   "id": "864c1518",
   "metadata": {},
   "source": [
    "1. Create a spark data frame that contains your favorite programming languages.\n",
    "The name of the column should be language\n",
    "View the schema of the dataframe\n",
    "Output the shape of the dataframe\n",
    "Show the first 5 records in the dataframe"
   ]
  },
  {
   "cell_type": "code",
   "execution_count": 3,
   "id": "372fef67",
   "metadata": {},
   "outputs": [],
   "source": [
    "# Create languages df in pandas\n",
    "languages = pd.DataFrame({\"language\" : ['r', 'python', 'sql', 'java', 'html']})"
   ]
  },
  {
   "cell_type": "code",
   "execution_count": 4,
   "id": "51fac75a",
   "metadata": {},
   "outputs": [],
   "source": [
    "# Create spark df\n",
    "df = spark.createDataFrame(languages)"
   ]
  },
  {
   "cell_type": "code",
   "execution_count": 5,
   "id": "c3f53fd3",
   "metadata": {},
   "outputs": [
    {
     "name": "stdout",
     "output_type": "stream",
     "text": [
      "root\n",
      " |-- language: string (nullable = true)\n",
      "\n"
     ]
    }
   ],
   "source": [
    "# View schema\n",
    "df.printSchema()"
   ]
  },
  {
   "cell_type": "code",
   "execution_count": 6,
   "id": "f9c6c84e",
   "metadata": {},
   "outputs": [
    {
     "name": "stderr",
     "output_type": "stream",
     "text": [
      "[Stage 0:>                                                          (0 + 8) / 8]\r"
     ]
    },
    {
     "name": "stdout",
     "output_type": "stream",
     "text": [
      "shape:  5  x  1\n"
     ]
    },
    {
     "name": "stderr",
     "output_type": "stream",
     "text": [
      "\r",
      "                                                                                \r"
     ]
    }
   ],
   "source": [
    "# View shape of df\n",
    "print('shape: ', df.count(), \" x \", len(df.columns))"
   ]
  },
  {
   "cell_type": "code",
   "execution_count": 7,
   "id": "fe070ba4",
   "metadata": {},
   "outputs": [
    {
     "data": {
      "text/plain": [
       "[Row(language='r'),\n",
       " Row(language='python'),\n",
       " Row(language='sql'),\n",
       " Row(language='java'),\n",
       " Row(language='html')]"
      ]
     },
     "execution_count": 7,
     "metadata": {},
     "output_type": "execute_result"
    }
   ],
   "source": [
    "# First five rows\n",
    "df.head(5)"
   ]
  },
  {
   "cell_type": "markdown",
   "id": "e574a031",
   "metadata": {},
   "source": [
    "2. Load the mpg dataset as a spark dataframe.\n",
    "- Create 1 column of output that contains a message like:\n",
    "The 1999 audi a4 has a 4 cylinder engine.\n",
    "For each vehicle.\n",
    "- Transform the trans column so that it only contains either manual or auto."
   ]
  },
  {
   "cell_type": "code",
   "execution_count": 8,
   "id": "d15315dd",
   "metadata": {},
   "outputs": [],
   "source": [
    "import pydataset\n",
    "\n",
    "mpg = spark.createDataFrame(pydataset.data('mpg'))"
   ]
  },
  {
   "cell_type": "code",
   "execution_count": 15,
   "id": "cd20f819",
   "metadata": {},
   "outputs": [
    {
     "name": "stderr",
     "output_type": "stream",
     "text": [
      "                                                                                \r"
     ]
    },
    {
     "name": "stdout",
     "output_type": "stream",
     "text": [
      "+-------+------------+-----------------+------------------+-----------------+-----------------+----------+---+------------------+-----------------+----+-------+\n",
      "|summary|manufacturer|            model|             displ|             year|              cyl|     trans|drv|               cty|              hwy|  fl|  class|\n",
      "+-------+------------+-----------------+------------------+-----------------+-----------------+----------+---+------------------+-----------------+----+-------+\n",
      "|  count|         234|              234|               234|              234|              234|       234|234|               234|              234| 234|    234|\n",
      "|   mean|        null|             null| 3.471794871794872|           2003.5|5.888888888888889|      null|4.0|16.858974358974358|23.44017094017094|null|   null|\n",
      "| stddev|        null|             null|1.2919590310839348|4.509646313320436|1.611534484684289|      null|0.0| 4.255945678889394|5.954643441166448|null|   null|\n",
      "|    min|        audi|      4runner 4wd|               1.6|             1999|                4|  auto(av)|  4|                 9|               12|   c|2seater|\n",
      "|    max|  volkswagen|toyota tacoma 4wd|               7.0|             2008|                8|manual(m6)|  r|                35|               44|   r|    suv|\n",
      "+-------+------------+-----------------+------------------+-----------------+-----------------+----------+---+------------------+-----------------+----+-------+\n",
      "\n"
     ]
    }
   ],
   "source": [
    "mpg.describe().show()"
   ]
  },
  {
   "cell_type": "code",
   "execution_count": 9,
   "id": "d0af1c14",
   "metadata": {},
   "outputs": [
    {
     "name": "stdout",
     "output_type": "stream",
     "text": [
      "+------------+------------------+-----+----+---+----------+---+---+---+---+-------+\n",
      "|manufacturer|             model|displ|year|cyl|     trans|drv|cty|hwy| fl|  class|\n",
      "+------------+------------------+-----+----+---+----------+---+---+---+---+-------+\n",
      "|        audi|                a4|  1.8|1999|  4|  auto(l5)|  f| 18| 29|  p|compact|\n",
      "|        audi|                a4|  1.8|1999|  4|manual(m5)|  f| 21| 29|  p|compact|\n",
      "|        audi|                a4|  2.0|2008|  4|manual(m6)|  f| 20| 31|  p|compact|\n",
      "|        audi|                a4|  2.0|2008|  4|  auto(av)|  f| 21| 30|  p|compact|\n",
      "|        audi|                a4|  2.8|1999|  6|  auto(l5)|  f| 16| 26|  p|compact|\n",
      "|        audi|                a4|  2.8|1999|  6|manual(m5)|  f| 18| 26|  p|compact|\n",
      "|        audi|                a4|  3.1|2008|  6|  auto(av)|  f| 18| 27|  p|compact|\n",
      "|        audi|        a4 quattro|  1.8|1999|  4|manual(m5)|  4| 18| 26|  p|compact|\n",
      "|        audi|        a4 quattro|  1.8|1999|  4|  auto(l5)|  4| 16| 25|  p|compact|\n",
      "|        audi|        a4 quattro|  2.0|2008|  4|manual(m6)|  4| 20| 28|  p|compact|\n",
      "|        audi|        a4 quattro|  2.0|2008|  4|  auto(s6)|  4| 19| 27|  p|compact|\n",
      "|        audi|        a4 quattro|  2.8|1999|  6|  auto(l5)|  4| 15| 25|  p|compact|\n",
      "|        audi|        a4 quattro|  2.8|1999|  6|manual(m5)|  4| 17| 25|  p|compact|\n",
      "|        audi|        a4 quattro|  3.1|2008|  6|  auto(s6)|  4| 17| 25|  p|compact|\n",
      "|        audi|        a4 quattro|  3.1|2008|  6|manual(m6)|  4| 15| 25|  p|compact|\n",
      "|        audi|        a6 quattro|  2.8|1999|  6|  auto(l5)|  4| 15| 24|  p|midsize|\n",
      "|        audi|        a6 quattro|  3.1|2008|  6|  auto(s6)|  4| 17| 25|  p|midsize|\n",
      "|        audi|        a6 quattro|  4.2|2008|  8|  auto(s6)|  4| 16| 23|  p|midsize|\n",
      "|   chevrolet|c1500 suburban 2wd|  5.3|2008|  8|  auto(l4)|  r| 14| 20|  r|    suv|\n",
      "|   chevrolet|c1500 suburban 2wd|  5.3|2008|  8|  auto(l4)|  r| 11| 15|  e|    suv|\n",
      "+------------+------------------+-----+----+---+----------+---+---+---+---+-------+\n",
      "only showing top 20 rows\n",
      "\n"
     ]
    }
   ],
   "source": [
    "mpg.show()"
   ]
  },
  {
   "cell_type": "code",
   "execution_count": 19,
   "id": "f876e4ca",
   "metadata": {},
   "outputs": [
    {
     "name": "stdout",
     "output_type": "stream",
     "text": [
      "+------------------------------------------------------------------------------+\n",
      "|concat(The , year,  , manufacturer,  , model,  has a , cyl,  cylinder engine.)|\n",
      "+------------------------------------------------------------------------------+\n",
      "|The 1999 audi a4 has a 4 cylinder engine.                                     |\n",
      "|The 1999 audi a4 has a 4 cylinder engine.                                     |\n",
      "|The 2008 audi a4 has a 4 cylinder engine.                                     |\n",
      "|The 2008 audi a4 has a 4 cylinder engine.                                     |\n",
      "|The 1999 audi a4 has a 6 cylinder engine.                                     |\n",
      "|The 1999 audi a4 has a 6 cylinder engine.                                     |\n",
      "|The 2008 audi a4 has a 6 cylinder engine.                                     |\n",
      "|The 1999 audi a4 quattro has a 4 cylinder engine.                             |\n",
      "|The 1999 audi a4 quattro has a 4 cylinder engine.                             |\n",
      "|The 2008 audi a4 quattro has a 4 cylinder engine.                             |\n",
      "|The 2008 audi a4 quattro has a 4 cylinder engine.                             |\n",
      "|The 1999 audi a4 quattro has a 6 cylinder engine.                             |\n",
      "|The 1999 audi a4 quattro has a 6 cylinder engine.                             |\n",
      "|The 2008 audi a4 quattro has a 6 cylinder engine.                             |\n",
      "|The 2008 audi a4 quattro has a 6 cylinder engine.                             |\n",
      "|The 1999 audi a6 quattro has a 6 cylinder engine.                             |\n",
      "|The 2008 audi a6 quattro has a 6 cylinder engine.                             |\n",
      "|The 2008 audi a6 quattro has a 8 cylinder engine.                             |\n",
      "|The 2008 chevrolet c1500 suburban 2wd has a 8 cylinder engine.                |\n",
      "|The 2008 chevrolet c1500 suburban 2wd has a 8 cylinder engine.                |\n",
      "+------------------------------------------------------------------------------+\n",
      "only showing top 20 rows\n",
      "\n"
     ]
    }
   ],
   "source": [
    "# Show output 'The 1999 audi a4 has a 4 clyinder engine.'\n",
    "mpg.select(concat(lit('The '), mpg.year, lit(' '), mpg.manufacturer, lit(' '), mpg.model, lit(' has a '), \n",
    "                  mpg.cyl, lit(' cylinder engine.'))).show(truncate = False)"
   ]
  },
  {
   "cell_type": "code",
   "execution_count": 21,
   "id": "5ac5050b",
   "metadata": {},
   "outputs": [
    {
     "name": "stdout",
     "output_type": "stream",
     "text": [
      "+----------+----------------------------------+\n",
      "|     trans|regexp_extract(trans, ^(\\w+)\\(, 1)|\n",
      "+----------+----------------------------------+\n",
      "|  auto(l5)|                              auto|\n",
      "|manual(m5)|                            manual|\n",
      "|manual(m6)|                            manual|\n",
      "|  auto(av)|                              auto|\n",
      "|  auto(l5)|                              auto|\n",
      "|manual(m5)|                            manual|\n",
      "|  auto(av)|                              auto|\n",
      "|manual(m5)|                            manual|\n",
      "|  auto(l5)|                              auto|\n",
      "|manual(m6)|                            manual|\n",
      "|  auto(s6)|                              auto|\n",
      "|  auto(l5)|                              auto|\n",
      "|manual(m5)|                            manual|\n",
      "|  auto(s6)|                              auto|\n",
      "|manual(m6)|                            manual|\n",
      "|  auto(l5)|                              auto|\n",
      "|  auto(s6)|                              auto|\n",
      "|  auto(s6)|                              auto|\n",
      "|  auto(l4)|                              auto|\n",
      "|  auto(l4)|                              auto|\n",
      "+----------+----------------------------------+\n",
      "only showing top 20 rows\n",
      "\n"
     ]
    }
   ],
   "source": [
    "# Transform the 'trans' column so that it only contains either manual or auto\n",
    "mpg.select('trans',\n",
    "          regexp_extract('trans', r\"^(\\w+)\\(\", 1)).show()"
   ]
  },
  {
   "cell_type": "code",
   "execution_count": 23,
   "id": "95452e3a",
   "metadata": {},
   "outputs": [
    {
     "name": "stdout",
     "output_type": "stream",
     "text": [
      "+----------+--------------+-----------+\n",
      "|     trans|regexp_replace|when + like|\n",
      "+----------+--------------+-----------+\n",
      "|  auto(l5)|          auto|       auto|\n",
      "|manual(m5)|        manual|     manual|\n",
      "|manual(m6)|        manual|     manual|\n",
      "|  auto(av)|          auto|       auto|\n",
      "|  auto(l5)|          auto|       auto|\n",
      "|manual(m5)|        manual|     manual|\n",
      "|  auto(av)|          auto|       auto|\n",
      "|manual(m5)|        manual|     manual|\n",
      "|  auto(l5)|          auto|       auto|\n",
      "|manual(m6)|        manual|     manual|\n",
      "|  auto(s6)|          auto|       auto|\n",
      "|  auto(l5)|          auto|       auto|\n",
      "|manual(m5)|        manual|     manual|\n",
      "|  auto(s6)|          auto|       auto|\n",
      "|manual(m6)|        manual|     manual|\n",
      "|  auto(l5)|          auto|       auto|\n",
      "|  auto(s6)|          auto|       auto|\n",
      "|  auto(s6)|          auto|       auto|\n",
      "|  auto(l4)|          auto|       auto|\n",
      "|  auto(l4)|          auto|       auto|\n",
      "+----------+--------------+-----------+\n",
      "only showing top 20 rows\n",
      "\n"
     ]
    }
   ],
   "source": [
    "# Regexp_replace and when\n",
    "mpg.select('trans', \n",
    "          regexp_replace('trans', r\"\\(.+$\", \"\").alias(\"regexp_replace\"),\n",
    "          when(mpg.trans.like(\"auto%\"), 'auto').otherwise('manual').alias('when + like')).show()"
   ]
  },
  {
   "cell_type": "markdown",
   "id": "794d5443",
   "metadata": {},
   "source": [
    "3. Load the tips dataset as a spark df"
   ]
  },
  {
   "cell_type": "code",
   "execution_count": 24,
   "id": "ba359092",
   "metadata": {},
   "outputs": [],
   "source": [
    "tips = spark.createDataFrame(pydataset.data('tips'))"
   ]
  },
  {
   "cell_type": "code",
   "execution_count": 25,
   "id": "1236f2b6",
   "metadata": {},
   "outputs": [
    {
     "name": "stdout",
     "output_type": "stream",
     "text": [
      "+----------+----+------+------+---+------+----+\n",
      "|total_bill| tip|   sex|smoker|day|  time|size|\n",
      "+----------+----+------+------+---+------+----+\n",
      "|     16.99|1.01|Female|    No|Sun|Dinner|   2|\n",
      "|     10.34|1.66|  Male|    No|Sun|Dinner|   3|\n",
      "|     21.01| 3.5|  Male|    No|Sun|Dinner|   3|\n",
      "|     23.68|3.31|  Male|    No|Sun|Dinner|   2|\n",
      "|     24.59|3.61|Female|    No|Sun|Dinner|   4|\n",
      "|     25.29|4.71|  Male|    No|Sun|Dinner|   4|\n",
      "|      8.77| 2.0|  Male|    No|Sun|Dinner|   2|\n",
      "|     26.88|3.12|  Male|    No|Sun|Dinner|   4|\n",
      "|     15.04|1.96|  Male|    No|Sun|Dinner|   2|\n",
      "|     14.78|3.23|  Male|    No|Sun|Dinner|   2|\n",
      "|     10.27|1.71|  Male|    No|Sun|Dinner|   2|\n",
      "|     35.26| 5.0|Female|    No|Sun|Dinner|   4|\n",
      "|     15.42|1.57|  Male|    No|Sun|Dinner|   2|\n",
      "|     18.43| 3.0|  Male|    No|Sun|Dinner|   4|\n",
      "|     14.83|3.02|Female|    No|Sun|Dinner|   2|\n",
      "|     21.58|3.92|  Male|    No|Sun|Dinner|   2|\n",
      "|     10.33|1.67|Female|    No|Sun|Dinner|   3|\n",
      "|     16.29|3.71|  Male|    No|Sun|Dinner|   3|\n",
      "|     16.97| 3.5|Female|    No|Sun|Dinner|   3|\n",
      "|     20.65|3.35|  Male|    No|Sat|Dinner|   3|\n",
      "+----------+----+------+------+---+------+----+\n",
      "only showing top 20 rows\n",
      "\n"
     ]
    }
   ],
   "source": [
    "tips.show()"
   ]
  },
  {
   "cell_type": "code",
   "execution_count": 26,
   "id": "048ee68f",
   "metadata": {},
   "outputs": [
    {
     "name": "stderr",
     "output_type": "stream",
     "text": [
      "\r",
      "[Stage 21:>                                                         (0 + 8) / 8]\r"
     ]
    },
    {
     "name": "stdout",
     "output_type": "stream",
     "text": [
      "+------+-----+\n",
      "|smoker|count|\n",
      "+------+-----+\n",
      "|    No|  151|\n",
      "|   Yes|   93|\n",
      "+------+-----+\n",
      "\n"
     ]
    },
    {
     "name": "stderr",
     "output_type": "stream",
     "text": [
      "\r",
      "                                                                                \r"
     ]
    }
   ],
   "source": [
    "# What percentage of observations are smokers?\n",
    "tips.groupby('smoker').count().show()"
   ]
  },
  {
   "cell_type": "code",
   "execution_count": 27,
   "id": "62572b6a",
   "metadata": {},
   "outputs": [
    {
     "name": "stderr",
     "output_type": "stream",
     "text": [
      "\r",
      "[Stage 27:==========================================================(8 + 0) / 8]\r"
     ]
    },
    {
     "name": "stdout",
     "output_type": "stream",
     "text": [
      "+------+-----+-------------------+\n",
      "|smoker|count|            percent|\n",
      "+------+-----+-------------------+\n",
      "|    No|  151| 0.6188524590163934|\n",
      "|   Yes|   93|0.38114754098360654|\n",
      "+------+-----+-------------------+\n",
      "\n"
     ]
    },
    {
     "name": "stderr",
     "output_type": "stream",
     "text": [
      "\r",
      "                                                                                \r"
     ]
    }
   ],
   "source": [
    "tips.groupby('smoker').count().withColumn('percent', col('count') / tips.count()).show()"
   ]
  },
  {
   "cell_type": "code",
   "execution_count": 28,
   "id": "8f5d238d",
   "metadata": {},
   "outputs": [
    {
     "name": "stdout",
     "output_type": "stream",
     "text": [
      "+------+-----+-------+\n",
      "|smoker|count|percent|\n",
      "+------+-----+-------+\n",
      "|    No|  151|    62%|\n",
      "|   Yes|   93|    38%|\n",
      "+------+-----+-------+\n",
      "\n"
     ]
    }
   ],
   "source": [
    "tips.groupby('smoker').count().withColumn('percent', concat(round((col('count') / tips.count() * 100), 0)\n",
    "                                                            .cast('int'), lit(\"%\"))).show()"
   ]
  },
  {
   "cell_type": "code",
   "execution_count": 54,
   "id": "092c6ad3",
   "metadata": {},
   "outputs": [
    {
     "name": "stdout",
     "output_type": "stream",
     "text": [
      "+-------------------+\n",
      "|    Percent_smokers|\n",
      "+-------------------+\n",
      "|0.38114754098360654|\n",
      "+-------------------+\n",
      "\n"
     ]
    }
   ],
   "source": [
    "tips.agg(mean(when(tips.smoker == 'Yes', 1).otherwise(0)).alias('Percent_smokers')).show()"
   ]
  },
  {
   "cell_type": "code",
   "execution_count": 33,
   "id": "906b109f",
   "metadata": {},
   "outputs": [
    {
     "name": "stdout",
     "output_type": "stream",
     "text": [
      "+----------+----+------+------+---+------+----+-------------------+\n",
      "|total_bill| tip|   sex|smoker|day|  time|size|     tip_percentage|\n",
      "+----------+----+------+------+---+------+----+-------------------+\n",
      "|     16.99|1.01|Female|    No|Sun|Dinner|   2|0.05944673337257211|\n",
      "|     10.34|1.66|  Male|    No|Sun|Dinner|   3|0.16054158607350097|\n",
      "|     21.01| 3.5|  Male|    No|Sun|Dinner|   3|0.16658733936220846|\n",
      "|     23.68|3.31|  Male|    No|Sun|Dinner|   2| 0.1397804054054054|\n",
      "|     24.59|3.61|Female|    No|Sun|Dinner|   4|0.14680764538430255|\n",
      "|     25.29|4.71|  Male|    No|Sun|Dinner|   4|0.18623962040332148|\n",
      "|      8.77| 2.0|  Male|    No|Sun|Dinner|   2|0.22805017103762829|\n",
      "|     26.88|3.12|  Male|    No|Sun|Dinner|   4|0.11607142857142858|\n",
      "|     15.04|1.96|  Male|    No|Sun|Dinner|   2|0.13031914893617022|\n",
      "|     14.78|3.23|  Male|    No|Sun|Dinner|   2| 0.2185385656292287|\n",
      "|     10.27|1.71|  Male|    No|Sun|Dinner|   2| 0.1665043816942551|\n",
      "|     35.26| 5.0|Female|    No|Sun|Dinner|   4|0.14180374361883155|\n",
      "|     15.42|1.57|  Male|    No|Sun|Dinner|   2|0.10181582360570687|\n",
      "|     18.43| 3.0|  Male|    No|Sun|Dinner|   4|0.16277807921866522|\n",
      "|     14.83|3.02|Female|    No|Sun|Dinner|   2|0.20364126770060686|\n",
      "|     21.58|3.92|  Male|    No|Sun|Dinner|   2|0.18164967562557924|\n",
      "|     10.33|1.67|Female|    No|Sun|Dinner|   3| 0.1616650532429816|\n",
      "|     16.29|3.71|  Male|    No|Sun|Dinner|   3|0.22774708410067526|\n",
      "|     16.97| 3.5|Female|    No|Sun|Dinner|   3|0.20624631703005306|\n",
      "|     20.65|3.35|  Male|    No|Sat|Dinner|   3|0.16222760290556903|\n",
      "+----------+----+------+------+---+------+----+-------------------+\n",
      "only showing top 20 rows\n",
      "\n"
     ]
    }
   ],
   "source": [
    "# Create a column that contains the tip percentage\n",
    "tips.withColumn('tip_percentage', expr('tip / total_bill')).show()"
   ]
  },
  {
   "cell_type": "code",
   "execution_count": 35,
   "id": "17a3b0f9",
   "metadata": {},
   "outputs": [
    {
     "name": "stderr",
     "output_type": "stream",
     "text": [
      "\r",
      "[Stage 44:>                                                         (0 + 8) / 8]\r"
     ]
    },
    {
     "name": "stdout",
     "output_type": "stream",
     "text": [
      "+------+------+------+\n",
      "|   sex|    No|   Yes|\n",
      "+------+------+------+\n",
      "|Female|0.1569|0.1822|\n",
      "|  Male|0.1607|0.1528|\n",
      "+------+------+------+\n",
      "\n"
     ]
    },
    {
     "name": "stderr",
     "output_type": "stream",
     "text": [
      "\r",
      "                                                                                \r"
     ]
    }
   ],
   "source": [
    "# Calculate average tip percentage for each combination of sex and smoker\n",
    "(\n",
    "tips.withColumn('tip_percentage', tips.tip / tips.total_bill)\n",
    ".groupby('sex')\n",
    ".pivot('smoker')\n",
    ".agg(round(mean('tip_percentage'), 4))\n",
    ".show()\n",
    ")"
   ]
  },
  {
   "cell_type": "markdown",
   "id": "7f651070",
   "metadata": {},
   "source": [
    "4. Seattle Weather dataset"
   ]
  },
  {
   "cell_type": "code",
   "execution_count": 44,
   "id": "42d9692a",
   "metadata": {},
   "outputs": [],
   "source": [
    "from vega_datasets import data\n",
    "\n",
    "weather = data.seattle_weather()\n",
    "weather = spark.createDataFrame(weather)"
   ]
  },
  {
   "cell_type": "code",
   "execution_count": 45,
   "id": "32aa67f9",
   "metadata": {},
   "outputs": [
    {
     "name": "stdout",
     "output_type": "stream",
     "text": [
      "+-------------------+-------------+--------+--------+----+-------+\n",
      "|               date|precipitation|temp_max|temp_min|wind|weather|\n",
      "+-------------------+-------------+--------+--------+----+-------+\n",
      "|2012-01-01 00:00:00|          0.0|    12.8|     5.0| 4.7|drizzle|\n",
      "|2012-01-02 00:00:00|         10.9|    10.6|     2.8| 4.5|   rain|\n",
      "|2012-01-03 00:00:00|          0.8|    11.7|     7.2| 2.3|   rain|\n",
      "|2012-01-04 00:00:00|         20.3|    12.2|     5.6| 4.7|   rain|\n",
      "|2012-01-05 00:00:00|          1.3|     8.9|     2.8| 6.1|   rain|\n",
      "|2012-01-06 00:00:00|          2.5|     4.4|     2.2| 2.2|   rain|\n",
      "|2012-01-07 00:00:00|          0.0|     7.2|     2.8| 2.3|   rain|\n",
      "|2012-01-08 00:00:00|          0.0|    10.0|     2.8| 2.0|    sun|\n",
      "|2012-01-09 00:00:00|          4.3|     9.4|     5.0| 3.4|   rain|\n",
      "|2012-01-10 00:00:00|          1.0|     6.1|     0.6| 3.4|   rain|\n",
      "|2012-01-11 00:00:00|          0.0|     6.1|    -1.1| 5.1|    sun|\n",
      "|2012-01-12 00:00:00|          0.0|     6.1|    -1.7| 1.9|    sun|\n",
      "|2012-01-13 00:00:00|          0.0|     5.0|    -2.8| 1.3|    sun|\n",
      "|2012-01-14 00:00:00|          4.1|     4.4|     0.6| 5.3|   snow|\n",
      "|2012-01-15 00:00:00|          5.3|     1.1|    -3.3| 3.2|   snow|\n",
      "|2012-01-16 00:00:00|          2.5|     1.7|    -2.8| 5.0|   snow|\n",
      "|2012-01-17 00:00:00|          8.1|     3.3|     0.0| 5.6|   snow|\n",
      "|2012-01-18 00:00:00|         19.8|     0.0|    -2.8| 5.0|   snow|\n",
      "|2012-01-19 00:00:00|         15.2|    -1.1|    -2.8| 1.6|   snow|\n",
      "|2012-01-20 00:00:00|         13.5|     7.2|    -1.1| 2.3|   snow|\n",
      "+-------------------+-------------+--------+--------+----+-------+\n",
      "only showing top 20 rows\n",
      "\n"
     ]
    }
   ],
   "source": [
    "weather.show()"
   ]
  },
  {
   "cell_type": "code",
   "execution_count": 46,
   "id": "39a1952c",
   "metadata": {},
   "outputs": [
    {
     "name": "stdout",
     "output_type": "stream",
     "text": [
      "+-------------------+-------------+------------------+------------------+----+-------+\n",
      "|               date|precipitation|          temp_max|          temp_min|wind|weather|\n",
      "+-------------------+-------------+------------------+------------------+----+-------+\n",
      "|2012-01-01 00:00:00|          0.0|             55.04|              41.0| 4.7|drizzle|\n",
      "|2012-01-02 00:00:00|         10.9|             51.08|             37.04| 4.5|   rain|\n",
      "|2012-01-03 00:00:00|          0.8|             53.06|             44.96| 2.3|   rain|\n",
      "|2012-01-04 00:00:00|         20.3|             53.96|             42.08| 4.7|   rain|\n",
      "|2012-01-05 00:00:00|          1.3|             48.02|             37.04| 6.1|   rain|\n",
      "|2012-01-06 00:00:00|          2.5|             39.92|             35.96| 2.2|   rain|\n",
      "|2012-01-07 00:00:00|          0.0|             44.96|             37.04| 2.3|   rain|\n",
      "|2012-01-08 00:00:00|          0.0|              50.0|             37.04| 2.0|    sun|\n",
      "|2012-01-09 00:00:00|          4.3|             48.92|              41.0| 3.4|   rain|\n",
      "|2012-01-10 00:00:00|          1.0|42.980000000000004|             33.08| 3.4|   rain|\n",
      "|2012-01-11 00:00:00|          0.0|42.980000000000004|             30.02| 5.1|    sun|\n",
      "|2012-01-12 00:00:00|          0.0|42.980000000000004|             28.94| 1.9|    sun|\n",
      "|2012-01-13 00:00:00|          0.0|              41.0|             26.96| 1.3|    sun|\n",
      "|2012-01-14 00:00:00|          4.1|             39.92|             33.08| 5.3|   snow|\n",
      "|2012-01-15 00:00:00|          5.3|             33.98|26.060000000000002| 3.2|   snow|\n",
      "|2012-01-16 00:00:00|          2.5|             35.06|             26.96| 5.0|   snow|\n",
      "|2012-01-17 00:00:00|          8.1|             37.94|              32.0| 5.6|   snow|\n",
      "|2012-01-18 00:00:00|         19.8|              32.0|             26.96| 5.0|   snow|\n",
      "|2012-01-19 00:00:00|         15.2|             30.02|             26.96| 1.6|   snow|\n",
      "|2012-01-20 00:00:00|         13.5|             44.96|             30.02| 2.3|   snow|\n",
      "+-------------------+-------------+------------------+------------------+----+-------+\n",
      "only showing top 20 rows\n",
      "\n"
     ]
    }
   ],
   "source": [
    "# Convert temperatures from c to f\n",
    "\n",
    "weather = weather.withColumn(\"temp_max\", (col('temp_max') * 9 / 5 + 32)).withColumn(\"temp_min\", (weather.temp_min * 9 / 5 + 32))    \n",
    "\n",
    "weather.show()"
   ]
  },
  {
   "cell_type": "code",
   "execution_count": 47,
   "id": "cc3e9191",
   "metadata": {},
   "outputs": [
    {
     "name": "stderr",
     "output_type": "stream",
     "text": [
      "                                                                                \r"
     ]
    }
   ],
   "source": [
    "# Which month has the most rain on average\n",
    "row = (\n",
    "weather.withColumn('month', month('date'))\n",
    ".withColumn('year', year('date'))\n",
    ".groupby('month', 'year')\n",
    ".agg(sum('precipitation').alias('total_monthly_prec'))\n",
    ".groupby('month')\n",
    ".agg(mean('total_monthly_prec').alias('avg_monthly_rain'))\n",
    ".sort(col('avg_monthly_rain').desc())\n",
    ".first()\n",
    ")"
   ]
  },
  {
   "cell_type": "code",
   "execution_count": 48,
   "id": "85044824",
   "metadata": {},
   "outputs": [
    {
     "data": {
      "text/plain": [
       "Row(month=11, avg_monthly_rain=160.625)"
      ]
     },
     "execution_count": 48,
     "metadata": {},
     "output_type": "execute_result"
    }
   ],
   "source": [
    "row"
   ]
  },
  {
   "cell_type": "code",
   "execution_count": 50,
   "id": "b4175870",
   "metadata": {},
   "outputs": [
    {
     "name": "stdout",
     "output_type": "stream",
     "text": [
      "+-----+-------------------+\n",
      "|month|       avg_rainfall|\n",
      "+-----+-------------------+\n",
      "|   11|  5.354166666666667|\n",
      "|   12|  5.021774193548389|\n",
      "|    3|  4.888709677419355|\n",
      "|   10|  4.059677419354839|\n",
      "|    1| 3.7580645161290316|\n",
      "|    2|  3.734513274336283|\n",
      "|    4|  3.128333333333333|\n",
      "|    9| 1.9624999999999997|\n",
      "|    5| 1.6733870967741935|\n",
      "|    8| 1.3201612903225806|\n",
      "|    6| 1.1075000000000002|\n",
      "|    7|0.38870967741935486|\n",
      "+-----+-------------------+\n",
      "\n"
     ]
    }
   ],
   "source": [
    "(\n",
    "weather.withColumn('month', month('date'))\n",
    ".groupby('month')\n",
    ".agg(avg('precipitation').alias('avg_rainfall'))\n",
    ".sort('avg_rainfall', ascending=False)\n",
    ".show()\n",
    ")"
   ]
  },
  {
   "cell_type": "code",
   "execution_count": 52,
   "id": "1bce53e1",
   "metadata": {},
   "outputs": [
    {
     "data": {
      "text/plain": [
       "[Row(year=2012, total_wind=1244.7),\n",
       " Row(year=2014, total_wind=1236.5000000000007),\n",
       " Row(year=2015, total_wind=1153.3000000000002),\n",
       " Row(year=2013, total_wind=1100.8000000000006)]"
      ]
     },
     "execution_count": 52,
     "metadata": {},
     "output_type": "execute_result"
    }
   ],
   "source": [
    "# Which year is the windiest\n",
    "(\n",
    "weather.withColumn('year', year('date'))\n",
    "    .groupby('year')\n",
    "    .agg(sum('wind').alias('total_wind'))\n",
    "    .sort(col('total_wind').desc())\n",
    "    .head(10)\n",
    ")"
   ]
  },
  {
   "cell_type": "code",
   "execution_count": 53,
   "id": "96fa2702",
   "metadata": {},
   "outputs": [
    {
     "name": "stderr",
     "output_type": "stream",
     "text": [
      "\r",
      "[Stage 70:=======>                                                  (1 + 7) / 8]\r"
     ]
    },
    {
     "name": "stdout",
     "output_type": "stream",
     "text": [
      "+----+------------------+\n",
      "|year|          avg_wind|\n",
      "+----+------------------+\n",
      "|2012| 3.400819672131148|\n",
      "|2014| 3.387671232876714|\n",
      "|2015| 3.159726027397261|\n",
      "|2013|3.0158904109589058|\n",
      "+----+------------------+\n",
      "\n"
     ]
    },
    {
     "name": "stderr",
     "output_type": "stream",
     "text": [
      "\r",
      "                                                                                \r"
     ]
    }
   ],
   "source": [
    "(\n",
    "weather.withColumn('year', year('date'))\n",
    "    .groupby('year')\n",
    "    .agg(avg('wind').alias('avg_wind'))\n",
    "    .sort('avg_wind', ascending=False)\n",
    "    .show()\n",
    ")"
   ]
  },
  {
   "cell_type": "code",
   "execution_count": 56,
   "id": "1abf759f",
   "metadata": {},
   "outputs": [
    {
     "name": "stdout",
     "output_type": "stream",
     "text": [
      "+-------+-----+\n",
      "|weather|count|\n",
      "+-------+-----+\n",
      "|    fog|   38|\n",
      "|   rain|   35|\n",
      "|    sun|   33|\n",
      "|drizzle|   10|\n",
      "|   snow|    8|\n",
      "+-------+-----+\n",
      "\n"
     ]
    }
   ],
   "source": [
    "# Most frequent type of weather in january\n",
    "(\n",
    "weather.withColumn('month', month('date'))\n",
    "    .filter(col('month') == 1)\n",
    "    .groupby('weather')\n",
    "    .count()\n",
    "    .sort(col('count').desc())\n",
    "    .show()\n",
    ")"
   ]
  },
  {
   "cell_type": "code",
   "execution_count": 57,
   "id": "ee664a23",
   "metadata": {},
   "outputs": [
    {
     "name": "stdout",
     "output_type": "stream",
     "text": [
      "+-------+-----+\n",
      "|weather|count|\n",
      "+-------+-----+\n",
      "|drizzle|   54|\n",
      "|   rain|  259|\n",
      "|    sun|  714|\n",
      "|   snow|   23|\n",
      "|    fog|  411|\n",
      "+-------+-----+\n",
      "\n"
     ]
    }
   ],
   "source": [
    "weather.groupby('weather').count().show()"
   ]
  },
  {
   "cell_type": "code",
   "execution_count": 60,
   "id": "a3224987",
   "metadata": {},
   "outputs": [
    {
     "name": "stdout",
     "output_type": "stream",
     "text": [
      "+-----------------+-----------------+\n",
      "|    avg_high_temp|     avg_low_temp|\n",
      "+-----------------+-----------------+\n",
      "|80.29192307692308|57.52884615384615|\n",
      "+-----------------+-----------------+\n",
      "\n"
     ]
    }
   ],
   "source": [
    "# Average high and low temp. on sunny days in july in 2013 and 2014\n",
    "(\n",
    "weather.filter(month('date') == 7)\n",
    "    .filter(year('date') > 2012)\n",
    "    .filter(year('date') < 2015)\n",
    "    .filter(col('weather') == lit('sun'))\n",
    "    .agg(\n",
    "        avg('temp_max').alias('avg_high_temp'),\n",
    "        avg('temp_min').alias('avg_low_temp'),\n",
    "    )\n",
    "    .show()\n",
    ")"
   ]
  },
  {
   "cell_type": "code",
   "execution_count": 64,
   "id": "228d395c",
   "metadata": {},
   "outputs": [],
   "source": [
    "weather = weather.withColumn('year', year('date'))\n",
    "weather = weather.withColumn('month', month('date'))"
   ]
  },
  {
   "cell_type": "code",
   "execution_count": 65,
   "id": "6d17fd7b",
   "metadata": {},
   "outputs": [
    {
     "name": "stderr",
     "output_type": "stream",
     "text": [
      "\r",
      "[Stage 95:>                                                         (0 + 8) / 8]\r"
     ]
    },
    {
     "name": "stdout",
     "output_type": "stream",
     "text": [
      "+-------+-----------------+-----------------+\n",
      "|weather|             2013|             2014|\n",
      "+-------+-----------------+-----------------+\n",
      "|    fog|73.34000000000002|           77.792|\n",
      "|   rain|            71.96|84.91999999999999|\n",
      "|    sun|79.85333333333334|80.76559999999999|\n",
      "+-------+-----------------+-----------------+\n",
      "\n"
     ]
    },
    {
     "name": "stderr",
     "output_type": "stream",
     "text": [
      "\r",
      "                                                                                \r"
     ]
    }
   ],
   "source": [
    "weather.filter(expr(\n",
    "    '(year == 2013 OR year == 2014) AND month == 07')).groupby('weather').pivot('year').mean('temp_max').show()\n",
    "                    "
   ]
  },
  {
   "cell_type": "code",
   "execution_count": 68,
   "id": "e3b22f52",
   "metadata": {},
   "outputs": [
    {
     "name": "stdout",
     "output_type": "stream",
     "text": [
      "+-----------------+\n",
      "|    avg(temp_max)|\n",
      "+-----------------+\n",
      "|65.37874999999998|\n",
      "+-----------------+\n",
      "\n"
     ]
    }
   ],
   "source": [
    "(\n",
    "weather.filter(((weather.year == 2013) | (weather.year == 2014)) & (weather.weather == 'sun')).\n",
    "select(mean('temp_max')).show()\n",
    ")"
   ]
  },
  {
   "cell_type": "code",
   "execution_count": 66,
   "id": "08b212e3",
   "metadata": {},
   "outputs": [
    {
     "name": "stdout",
     "output_type": "stream",
     "text": [
      "+--------------------+\n",
      "|           avg(rain)|\n",
      "+--------------------+\n",
      "|0.021739130434782608|\n",
      "+--------------------+\n",
      "\n"
     ]
    }
   ],
   "source": [
    "# What percentage of days were rainy in q3 of 2015\n",
    "# in pandas -- (df.weather == 'rain').mean()\n",
    "(\n",
    "weather.filter(year('date') == 2015)\n",
    "    .filter(quarter('date') == 3)\n",
    "    .select(when(col('weather') == 'rain', 1).otherwise(0).alias('rain'))\n",
    "    .agg(mean('rain'))\n",
    "    .show()\n",
    ")"
   ]
  },
  {
   "cell_type": "code",
   "execution_count": 69,
   "id": "be40df4d",
   "metadata": {},
   "outputs": [
    {
     "name": "stdout",
     "output_type": "stream",
     "text": [
      "+-------------------+-------------+------------------+------------------+----+-------+----+-----+\n",
      "|               date|precipitation|          temp_max|          temp_min|wind|weather|year|month|\n",
      "+-------------------+-------------+------------------+------------------+----+-------+----+-----+\n",
      "|2012-01-01 00:00:00|          0.0|             55.04|              41.0| 4.7|drizzle|2012|    1|\n",
      "|2012-01-02 00:00:00|         10.9|             51.08|             37.04| 4.5|   rain|2012|    1|\n",
      "|2012-01-03 00:00:00|          0.8|             53.06|             44.96| 2.3|   rain|2012|    1|\n",
      "|2012-01-04 00:00:00|         20.3|             53.96|             42.08| 4.7|   rain|2012|    1|\n",
      "|2012-01-05 00:00:00|          1.3|             48.02|             37.04| 6.1|   rain|2012|    1|\n",
      "|2012-01-06 00:00:00|          2.5|             39.92|             35.96| 2.2|   rain|2012|    1|\n",
      "|2012-01-07 00:00:00|          0.0|             44.96|             37.04| 2.3|   rain|2012|    1|\n",
      "|2012-01-08 00:00:00|          0.0|              50.0|             37.04| 2.0|    sun|2012|    1|\n",
      "|2012-01-09 00:00:00|          4.3|             48.92|              41.0| 3.4|   rain|2012|    1|\n",
      "|2012-01-10 00:00:00|          1.0|42.980000000000004|             33.08| 3.4|   rain|2012|    1|\n",
      "|2012-01-11 00:00:00|          0.0|42.980000000000004|             30.02| 5.1|    sun|2012|    1|\n",
      "|2012-01-12 00:00:00|          0.0|42.980000000000004|             28.94| 1.9|    sun|2012|    1|\n",
      "|2012-01-13 00:00:00|          0.0|              41.0|             26.96| 1.3|    sun|2012|    1|\n",
      "|2012-01-14 00:00:00|          4.1|             39.92|             33.08| 5.3|   snow|2012|    1|\n",
      "|2012-01-15 00:00:00|          5.3|             33.98|26.060000000000002| 3.2|   snow|2012|    1|\n",
      "|2012-01-16 00:00:00|          2.5|             35.06|             26.96| 5.0|   snow|2012|    1|\n",
      "|2012-01-17 00:00:00|          8.1|             37.94|              32.0| 5.6|   snow|2012|    1|\n",
      "|2012-01-18 00:00:00|         19.8|              32.0|             26.96| 5.0|   snow|2012|    1|\n",
      "|2012-01-19 00:00:00|         15.2|             30.02|             26.96| 1.6|   snow|2012|    1|\n",
      "|2012-01-20 00:00:00|         13.5|             44.96|             30.02| 2.3|   snow|2012|    1|\n",
      "+-------------------+-------------+------------------+------------------+----+-------+----+-----+\n",
      "only showing top 20 rows\n",
      "\n"
     ]
    }
   ],
   "source": [
    "weather.show()"
   ]
  },
  {
   "cell_type": "code",
   "execution_count": 70,
   "id": "a899f0a1",
   "metadata": {},
   "outputs": [],
   "source": [
    "weather = weather.withColumn('quarter', quarter('date'))"
   ]
  },
  {
   "cell_type": "code",
   "execution_count": 71,
   "id": "b1011f0d",
   "metadata": {},
   "outputs": [],
   "source": [
    "rain_q3_15 = weather.filter(expr('year == 2015 AND quarter == 3'))"
   ]
  },
  {
   "cell_type": "code",
   "execution_count": 72,
   "id": "48d9d587",
   "metadata": {},
   "outputs": [
    {
     "data": {
      "text/plain": [
       "0.021739130434782608"
      ]
     },
     "execution_count": 72,
     "metadata": {},
     "output_type": "execute_result"
    }
   ],
   "source": [
    "rain_q3_15.where(rain_q3_15.weather == 'rain').count() / rain_q3_15.count()"
   ]
  },
  {
   "cell_type": "code",
   "execution_count": 74,
   "id": "1067f6b3",
   "metadata": {},
   "outputs": [
    {
     "name": "stdout",
     "output_type": "stream",
     "text": [
      "+----+-------------------+\n",
      "|year|        avg(rained)|\n",
      "+----+-------------------+\n",
      "|2012|0.48360655737704916|\n",
      "|2013|0.41643835616438357|\n",
      "|2014|  0.410958904109589|\n",
      "|2015|0.39452054794520547|\n",
      "+----+-------------------+\n",
      "\n"
     ]
    }
   ],
   "source": [
    "# For each year, find what percentage of days it rained (non-zero precipitation)\n",
    "(\n",
    "weather.withColumn('year', year('date'))\n",
    "    .select(when(col('precipitation') > 0, 1).otherwise(0).alias('rained'), 'year')\n",
    "    .groupby('year')\n",
    "    .agg(mean('rained'))\n",
    "    .show()\n",
    ")"
   ]
  },
  {
   "cell_type": "code",
   "execution_count": 75,
   "id": "4f934f28",
   "metadata": {},
   "outputs": [],
   "source": [
    "weather = weather.withColumn('rained', when((weather.precipitation > 0), 1).otherwise(0))"
   ]
  },
  {
   "cell_type": "code",
   "execution_count": 76,
   "id": "705f5bfc",
   "metadata": {},
   "outputs": [
    {
     "name": "stdout",
     "output_type": "stream",
     "text": [
      "+----+-------------------+\n",
      "|year|        avg(rained)|\n",
      "+----+-------------------+\n",
      "|2012|0.48360655737704916|\n",
      "|2013|0.41643835616438357|\n",
      "|2014|  0.410958904109589|\n",
      "|2015|0.39452054794520547|\n",
      "+----+-------------------+\n",
      "\n"
     ]
    }
   ],
   "source": [
    "weather.groupby('year').agg(mean('rained')).show()"
   ]
  },
  {
   "cell_type": "code",
   "execution_count": 77,
   "id": "8fb875fc",
   "metadata": {},
   "outputs": [
    {
     "name": "stderr",
     "output_type": "stream",
     "text": [
      "                                                                                \r"
     ]
    },
    {
     "name": "stdout",
     "output_type": "stream",
     "text": [
      "+------------+-------+---+----+----+---+\n",
      "|year_weather|drizzle|fog|rain|snow|sun|\n",
      "+------------+-------+---+----+----+---+\n",
      "|        2012|     31|  5| 191|  21|118|\n",
      "|        2013|     16| 82|  60|   2|205|\n",
      "|        2014|      0|151|   3|   0|211|\n",
      "|        2015|      7|173|   5|   0|180|\n",
      "+------------+-------+---+----+----+---+\n",
      "\n"
     ]
    }
   ],
   "source": [
    "weather.crosstab('year', 'weather').show()"
   ]
  },
  {
   "cell_type": "code",
   "execution_count": null,
   "id": "73424726",
   "metadata": {},
   "outputs": [],
   "source": []
  }
 ],
 "metadata": {
  "kernelspec": {
   "display_name": "Python 3 (ipykernel)",
   "language": "python",
   "name": "python3"
  },
  "language_info": {
   "codemirror_mode": {
    "name": "ipython",
    "version": 3
   },
   "file_extension": ".py",
   "mimetype": "text/x-python",
   "name": "python",
   "nbconvert_exporter": "python",
   "pygments_lexer": "ipython3",
   "version": "3.9.12"
  }
 },
 "nbformat": 4,
 "nbformat_minor": 5
}
